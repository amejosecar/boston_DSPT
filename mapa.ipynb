{
 "cells": [
  {
   "cell_type": "code",
   "execution_count": null,
   "metadata": {},
   "outputs": [],
   "source": []
  },
  {
   "cell_type": "code",
   "execution_count": 1,
   "metadata": {},
   "outputs": [
    {
     "ename": "NameError",
     "evalue": "name 'df_boston_2' is not defined",
     "output_type": "error",
     "traceback": [
      "\u001b[1;31m---------------------------------------------------------------------------\u001b[0m",
      "\u001b[1;31mNameError\u001b[0m                                 Traceback (most recent call last)",
      "Cell \u001b[1;32mIn[1], line 52\u001b[0m\n\u001b[0;32m     50\u001b[0m \u001b[38;5;66;03m# Añadir el popup a un marcador (opcional)\u001b[39;00m\n\u001b[0;32m     51\u001b[0m \u001b[38;5;28;01mimport\u001b[39;00m \u001b[38;5;21;01mfolium\u001b[39;00m\n\u001b[1;32m---> 52\u001b[0m \u001b[38;5;28;01mfor\u001b[39;00m indice, columna \u001b[38;5;129;01min\u001b[39;00m df_boston_2\u001b[38;5;241m.\u001b[39miterrows():\n\u001b[0;32m     53\u001b[0m        folium\u001b[38;5;241m.\u001b[39mMarker(location\u001b[38;5;241m=\u001b[39m[columna[\u001b[38;5;124m\"\u001b[39m\u001b[38;5;124mLON\u001b[39m\u001b[38;5;124m\"\u001b[39m]\u001b[38;5;241m+\u001b[39m\u001b[38;5;241m0.14\u001b[39m, columna[\u001b[38;5;124m\"\u001b[39m\u001b[38;5;124mLAT\u001b[39m\u001b[38;5;124m\"\u001b[39m]\u001b[38;5;241m-\u001b[39m\u001b[38;5;241m0.037\u001b[39m],  popup\u001b[38;5;241m=\u001b[39mdf_boston_2[\u001b[38;5;124m\"\u001b[39m\u001b[38;5;124mTOWN\u001b[39m\u001b[38;5;124m\"\u001b[39m][indice])\u001b[38;5;241m.\u001b[39madd_to(mapa_boston)\n\u001b[0;32m     56\u001b[0m \u001b[38;5;66;03m# Cargar datos adicionales (opcional)\u001b[39;00m\n",
      "\u001b[1;31mNameError\u001b[0m: name 'df_boston_2' is not defined"
     ]
    }
   ],
   "source": [
    "import folium\n",
    "import pandas as pd\n",
    "import json\n",
    "import random\n",
    "\n",
    "# Crear el mapa centrado en Boston\n",
    "mapa_boston = folium.Map(location=[42.3554334, -71.060511], zoom_start=11)\n",
    "\n",
    "# Generar una lista de colores\n",
    "colors = [\n",
    "    '#ff0000', '#00ff00', '#0000ff', '#ffff00', '#ff00ff', '#00ffff', '#ff8000', \n",
    "    '#8000ff', '#0080ff', '#80ff00', '#00ff80', '#ff0080', '#800080', '#808000'\n",
    "]\n",
    "\n",
    "# Leer el archivo GeoJSON\n",
    "with open('Boston_data_geo/Boston_Neighborhoods.geojson') as f:\n",
    "    geojson_data = json.load(f)\n",
    "\n",
    "# Crear un diccionario para almacenar el color de cada zona\n",
    "zone_colors = {}\n",
    "\n",
    "# Asignar un color aleatorio a cada zona\n",
    "for feature in geojson_data['features']:\n",
    "    zone_name = feature['properties']['Name']  # Ajusta esto según la estructura de tu GeoJSON\n",
    "    zone_colors[zone_name] = random.choice(colors)\n",
    "\n",
    "# Definir una función de estilo\n",
    "def style_function(feature):\n",
    "    zone_name = feature['properties']['Name']  # Ajusta esto según la estructura de tu GeoJSON\n",
    "    return {\n",
    "        'fillColor': zone_colors[zone_name],\n",
    "        'color': 'black',\n",
    "        'weight': 2,\n",
    "        'fillOpacity': 0.5\n",
    "    }\n",
    "\n",
    "# Cargar el GeoJSON y aplicar el estilo\n",
    "folium.GeoJson(\n",
    "    geojson_data,\n",
    "    style_function=style_function\n",
    ").add_to(mapa_boston)\n",
    "\n",
    "# Crear un popup HTML\n",
    "html = '''1st line<br>\n",
    "2nd line<br>\n",
    "3rd line'''\n",
    "iframe = folium.IFrame(html, width=100, height=100)\n",
    "popup = folium.Popup(iframe, max_width=100)\n",
    "\n",
    "# Añadir el popup a un marcador (opcional)\n",
    "import folium\n",
    "for indice, columna in df_boston_2.iterrows():\n",
    "       folium.Marker(location=[columna[\"LON\"]+0.14, columna[\"LAT\"]-0.037],  popup=df_boston_2[\"TOWN\"][indice]).add_to(mapa_boston)\n",
    "\n",
    "\n",
    "# Cargar datos adicionales (opcional)\n",
    "data_2 = pd.read_csv('Boston_data_geo/boston.csv')\n",
    "df_boston_2 = pd.DataFrame(data_2)\n",
    "\n",
    "# Mostrar el mapa\n",
    "mapa_boston"
   ]
  },
  {
   "cell_type": "code",
   "execution_count": null,
   "metadata": {},
   "outputs": [],
   "source": []
  }
 ],
 "metadata": {
  "kernelspec": {
   "display_name": "base",
   "language": "python",
   "name": "python3"
  },
  "language_info": {
   "codemirror_mode": {
    "name": "ipython",
    "version": 3
   },
   "file_extension": ".py",
   "mimetype": "text/x-python",
   "name": "python",
   "nbconvert_exporter": "python",
   "pygments_lexer": "ipython3",
   "version": "3.11.7"
  }
 },
 "nbformat": 4,
 "nbformat_minor": 2
}
